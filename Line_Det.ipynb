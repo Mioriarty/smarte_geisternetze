{
 "cells": [
  {
   "cell_type": "code",
   "execution_count": 2,
   "id": "65fb2318-6711-487d-8205-9477881762ad",
   "metadata": {},
   "outputs": [],
   "source": [
    "import cv2\n",
    "import numpy as np\n",
    "import matplotlib\n",
    "from matplotlib.pyplot import imshow\n",
    "from matplotlib import pyplot as plt\n",
    "\n",
    "# white color mask\n",
    "infile = '/Volumes/RAKSHA/ORCC/SH/20190404ecker sued 1/MARK0011.png'\n",
    "image = cv2.imread(infile)\n"
   ]
  },
  {
   "cell_type": "code",
   "execution_count": 3,
   "id": "890cb221-f3d0-43f7-8ea4-96500a198716",
   "metadata": {},
   "outputs": [
    {
     "data": {
      "image/png": "[encoded data removed]",
      "text/plain": [
       "<Figure size 640x480 with 1 Axes>"
      ]
     },
     "metadata": {},
     "output_type": "display_data"
    }
   ],
   "source": [
    "#print(img)\n",
    "\n",
    "# Reading the image and converting into B/W\n",
    "image = cv2.imread(infile)\n",
    "gray_img = cv2.cvtColor(image, cv2.COLOR_BGR2GRAY)\n",
    "\n",
    "hist=cv2.calcHist(gray_img,[0],None,[256],[0,256])\n",
    "\n",
    "plt.subplot(121)\n",
    "plt.title(\"Image1\")\n",
    "plt.xlabel('bins')\n",
    "plt.ylabel(\"No of pixels\")\n",
    "plt.plot(hist)\n",
    "plt.show()\n"
   ]
  },
  {
   "cell_type": "code",
   "execution_count": 4,
   "id": "aee296f8-f95c-4955-b6ca-3cad0eeedb8c",
   "metadata": {},
   "outputs": [],
   "source": [
    "clahe = cv2.createCLAHE(clipLimit = 1)\n",
    "cl1 = clahe.apply(gray_img) + 10"
   ]
  },
  {
   "cell_type": "code",
   "execution_count": null,
   "id": "392e9274-9de8-4157-b6a0-2828f72df81d",
   "metadata": {},
   "outputs": [],
   "source": [
    "clahe_images=np.concatenate((cl1,gray_img),axis=1)\n",
    "cv2.imshow(\"Images\",clahe_images)\n",
    "cv2.waitKey(0)\n",
    "cv2.destroyAllWindows()\n"
   ]
  },
  {
   "cell_type": "code",
   "execution_count": null,
   "id": "c985d7f9-6772-43e0-bf41-664da7db508b",
   "metadata": {},
   "outputs": [],
   "source": [
    "cv2.imwrite('/Volumes/RAKSHA/ORCC/SH/20190404ecker sued 1/MARK0011_enh.png', cl1)"
   ]
  },
  {
   "cell_type": "markdown",
   "id": "373753db-95b5-4066-b6db-6601cb220148",
   "metadata": {},
   "source": [
    "-------------------"
   ]
  },
  {
   "cell_type": "code",
   "execution_count": 29,
   "id": "3a956e79-1577-4389-ab8d-05bc9fdf4605",
   "metadata": {},
   "outputs": [
    {
     "name": "stdout",
     "output_type": "stream",
     "text": [
      "(258, 400)\n",
      "[255 255 255]\n"
     ]
    }
   ],
   "source": [
    "print(np.shape((cl1)))\n",
    "lower = np.uint8([0, 200, 0])\n",
    "upper = np.uint8([255, 255, 255])\n",
    "\n",
    "print(upper)"
   ]
  },
  {
   "cell_type": "code",
   "execution_count": null,
   "id": "a92b2aa6-1b78-4c79-913e-8e96cc492f39",
   "metadata": {},
   "outputs": [],
   "source": [
    "import cv2\n",
    "import numpy as np\n",
    "import matplotlib\n",
    "from matplotlib.pyplot import imshow\n",
    "from matplotlib import pyplot as plt\n",
    "import xtf_png\n",
    "\n",
    "#xtf_png.xtf2png('2019apr04_ecker_sued_10002.xtf', 'formated.png')\n",
    "\n",
    "\n",
    "kernel_size = 5\n",
    "blur_gray = cv2.GaussianBlur(gray_img, (kernel_size, kernel_size), 0)\n",
    "\n",
    "\n",
    "low_threshold = 10\n",
    "high_threshold = 200\n",
    "edges = cv2.Canny(blur_gray, low_threshold, high_threshold)\n",
    "\n",
    "\n",
    "rho = 1  # distance resolution in pixels of the Hough grid\n",
    "theta = np.pi / 180  # angular resolution in radians of the Hough grid\n",
    "threshold = 15  # minimum number of votes (intersections in Hough grid cell)\n",
    "min_line_length = 50  # minimum number of pixels making up a line\n",
    "max_line_gap = 20  # maximum gap in pixels between connectable line segments\n",
    "line_image = np.copy(cl1) * 0  # creating a blank to draw lines on\n",
    "\n",
    "# Run Hough on edge detected image\n",
    "# Output \"lines\" is an array containing endpoints of detected line segments\n",
    "lines = cv2.HoughLinesP(edges, rho, theta, threshold, np.array([]),\n",
    "                        min_line_length, max_line_gap)\n",
    "\n",
    "for line in lines:\n",
    "    for x1, y1, x2, y2 in line:\n",
    "        cv2.line(line_image, (x1, y1), (x2, y2), (255, 0, 0), 5)\n",
    "\n",
    "# Draw the lines on the  image\n",
    "lines_edges = cv2.addWeighted(cl1, 0.8, line_image, 1, 0)\n",
    "\n",
    "cv2.imwrite('detected1.png', lines_edges)\n",
    "cv2.waitKey(0)\n",
    "cv2.destroyAllWindows()\n"
   ]
  },
  {
   "cell_type": "code",
   "execution_count": null,
   "id": "287184a5-a026-40be-afd1-92d11e5dc569",
   "metadata": {},
   "outputs": [],
   "source": []
  },
  {
   "cell_type": "code",
   "execution_count": null,
   "id": "b2652988-4a12-4270-8ea6-741ecd306cd6",
   "metadata": {},
   "outputs": [],
   "source": []
  },
  {
   "cell_type": "code",
   "execution_count": null,
   "id": "e0d2a224-7596-4d89-a740-f89fc15bb06a",
   "metadata": {},
   "outputs": [],
   "source": []
  }
 ],
 "metadata": {
  "kernelspec": {
   "display_name": "Python 3 (ipykernel)",
   "language": "python",
   "name": "python3"
  },
  "language_info": {
   "codemirror_mode": {
    "name": "ipython",
    "version": 3
   },
   "file_extension": ".py",
   "mimetype": "text/x-python",
   "name": "python",
   "nbconvert_exporter": "python",
   "pygments_lexer": "ipython3",
   "version": "3.9.13"
  }
 },
 "nbformat": 4,
 "nbformat_minor": 5
}
